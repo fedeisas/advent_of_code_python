{
 "cells": [
  {
   "cell_type": "code",
   "execution_count": 46,
   "metadata": {
    "collapsed": true
   },
   "outputs": [],
   "source": [
    "%matplotlib inline\n",
    "\n",
    "import numpy as np"
   ]
  },
  {
   "cell_type": "code",
   "execution_count": 63,
   "metadata": {
    "collapsed": false
   },
   "outputs": [],
   "source": [
    "steps = np.genfromtxt('input.txt', delimiter=',', dtype='str')\n",
    "#steps = np.array(['R2', 'L3']) # 5 blocks away.\n",
    "#steps = np.array(['R2', 'R2', 'R2']) # 2 blocks away.\n",
    "#steps = np.array(['R5', 'L5', 'R5', 'R3']) # 12 blocks away."
   ]
  },
  {
   "cell_type": "code",
   "execution_count": 64,
   "metadata": {
    "collapsed": false
   },
   "outputs": [
    {
     "name": "stdout",
     "output_type": "stream",
     "text": [
      "0, 0 => (0, 0)\n",
      "0\n",
      "move 4 blocks to R\n",
      "1\n"
     ]
    },
    {
     "ename": "ValueError",
     "evalue": "invalid literal for int() with base 10: 'R5'",
     "traceback": [
      "\u001b[0;31m---------------------------------------------------------------------------\u001b[0m",
      "\u001b[0;31mValueError\u001b[0m                                Traceback (most recent call last)",
      "\u001b[0;32m<ipython-input-64-c7a393ab117a>\u001b[0m in \u001b[0;36m<module>\u001b[0;34m()\u001b[0m\n\u001b[1;32m     49\u001b[0m \u001b[0;32mprint\u001b[0m \u001b[0mnav\u001b[0m\u001b[0;34m.\u001b[0m\u001b[0mget_distance\u001b[0m\u001b[0;34m(\u001b[0m\u001b[0;34m)\u001b[0m\u001b[0;34m\u001b[0m\u001b[0m\n\u001b[1;32m     50\u001b[0m \u001b[0;34m\u001b[0m\u001b[0m\n\u001b[0;32m---> 51\u001b[0;31m \u001b[0mnav\u001b[0m\u001b[0;34m.\u001b[0m\u001b[0mapply_steps\u001b[0m\u001b[0;34m(\u001b[0m\u001b[0msteps\u001b[0m\u001b[0;34m)\u001b[0m\u001b[0;34m\u001b[0m\u001b[0m\n\u001b[0m\u001b[1;32m     52\u001b[0m \u001b[0;34m\u001b[0m\u001b[0m\n\u001b[1;32m     53\u001b[0m \u001b[0;32mprint\u001b[0m \u001b[0mnav\u001b[0m\u001b[0;34m.\u001b[0m\u001b[0mget_position\u001b[0m\u001b[0;34m(\u001b[0m\u001b[0;34m)\u001b[0m\u001b[0;34m\u001b[0m\u001b[0m\n",
      "\u001b[0;32m<ipython-input-64-c7a393ab117a>\u001b[0m in \u001b[0;36mapply_steps\u001b[0;34m(self, steps)\u001b[0m\n\u001b[1;32m     42\u001b[0m     \u001b[0;32mdef\u001b[0m \u001b[0mapply_steps\u001b[0m\u001b[0;34m(\u001b[0m\u001b[0mself\u001b[0m\u001b[0;34m,\u001b[0m \u001b[0msteps\u001b[0m\u001b[0;34m)\u001b[0m\u001b[0;34m:\u001b[0m\u001b[0;34m\u001b[0m\u001b[0m\n\u001b[1;32m     43\u001b[0m         \u001b[0;32mfor\u001b[0m \u001b[0mstep\u001b[0m \u001b[0;32min\u001b[0m \u001b[0msteps\u001b[0m\u001b[0;34m:\u001b[0m\u001b[0;34m\u001b[0m\u001b[0m\n\u001b[0;32m---> 44\u001b[0;31m             \u001b[0mself\u001b[0m\u001b[0;34m.\u001b[0m\u001b[0mmove\u001b[0m\u001b[0;34m(\u001b[0m\u001b[0mstep\u001b[0m\u001b[0;34m)\u001b[0m\u001b[0;34m\u001b[0m\u001b[0m\n\u001b[0m\u001b[1;32m     45\u001b[0m \u001b[0;34m\u001b[0m\u001b[0m\n\u001b[1;32m     46\u001b[0m \u001b[0;34m\u001b[0m\u001b[0m\n",
      "\u001b[0;32m<ipython-input-64-c7a393ab117a>\u001b[0m in \u001b[0;36mmove\u001b[0;34m(self, step)\u001b[0m\n\u001b[1;32m     22\u001b[0m     \u001b[0;32mdef\u001b[0m \u001b[0mmove\u001b[0m\u001b[0;34m(\u001b[0m\u001b[0mself\u001b[0m\u001b[0;34m,\u001b[0m \u001b[0mstep\u001b[0m\u001b[0;34m)\u001b[0m\u001b[0;34m:\u001b[0m\u001b[0;34m\u001b[0m\u001b[0m\n\u001b[1;32m     23\u001b[0m         \u001b[0mdirection\u001b[0m \u001b[0;34m=\u001b[0m \u001b[0mstep\u001b[0m\u001b[0;34m[\u001b[0m\u001b[0;36m0\u001b[0m\u001b[0;34m]\u001b[0m\u001b[0;34m\u001b[0m\u001b[0m\n\u001b[0;32m---> 24\u001b[0;31m         \u001b[0mlength\u001b[0m \u001b[0;34m=\u001b[0m \u001b[0mint\u001b[0m\u001b[0;34m(\u001b[0m\u001b[0mstep\u001b[0m\u001b[0;34m[\u001b[0m\u001b[0;36m1\u001b[0m\u001b[0;34m:\u001b[0m\u001b[0;34m]\u001b[0m\u001b[0;34m)\u001b[0m\u001b[0;34m\u001b[0m\u001b[0m\n\u001b[0m\u001b[1;32m     25\u001b[0m \u001b[0;34m\u001b[0m\u001b[0m\n\u001b[1;32m     26\u001b[0m         \u001b[0mself\u001b[0m\u001b[0;34m.\u001b[0m\u001b[0mturnTo\u001b[0m\u001b[0;34m(\u001b[0m\u001b[0mdirection\u001b[0m\u001b[0;34m)\u001b[0m\u001b[0;34m\u001b[0m\u001b[0m\n",
      "\u001b[0;31mValueError\u001b[0m: invalid literal for int() with base 10: 'R5'"
     ],
     "output_type": "error"
    }
   ],
   "source": [
    "class Navigator:\n",
    "    def __init__(self):\n",
    "        self.position = (0, 0)\n",
    "        self.direction = 0\n",
    "    \n",
    "    def get_position(self):\n",
    "        return \"%d, %d => %s\" % (self.position[0], self.position[1], self.position)\n",
    "    \n",
    "    def get_distance(self):\n",
    "        return sum(map(abs, self.position))\n",
    "    \n",
    "    def get_direction(self):\n",
    "        directions = {0: 'N', 1: 'E', 2: 'S', 3: 'W'}\n",
    "        return directions[self.direction]\n",
    "    \n",
    "    def turnTo(self, turn):\n",
    "        if turn == 'R':\n",
    "            self.direction = (self.direction + 1) % 4\n",
    "        elif turn == 'L':\n",
    "            self.direction = (self.direction - 1) % 4\n",
    "    \n",
    "    def move(self, step):\n",
    "        direction = step[0]\n",
    "        length = int(step[1:])\n",
    "        \n",
    "        self.turnTo(direction)\n",
    "        \n",
    "        x, y = self.position\n",
    "        \n",
    "        if self.direction == 0:\n",
    "            self.position = (x, y - length)\n",
    "        if self.direction == 1:\n",
    "            self.position = (x + length, y)\n",
    "        if self.direction == 2:\n",
    "            self.position = (x, y + length)\n",
    "        if self.direction == 3:\n",
    "            self.position = (x - length, y)\n",
    "        \n",
    "        print \"move %d blocks to %s\" % (length, direction)\n",
    "        print self.direction\n",
    "        \n",
    "    def apply_steps(self, steps):\n",
    "        for step in steps:\n",
    "            self.move(step)\n",
    "        \n",
    "\n",
    "nav = Navigator()\n",
    "print nav.get_position()\n",
    "print nav.get_distance()\n",
    "\n",
    "nav.apply_steps(steps)\n",
    "\n",
    "print nav.get_position()\n",
    "print nav.get_distance()\n",
    "print nav.get_direction()"
   ]
  },
  {
   "cell_type": "code",
   "execution_count": 65,
   "metadata": {
    "collapsed": false
   },
   "outputs": [
    {
     "data": {
      "text/plain": [
       "array(['R4', ' R5', ' L5', ' L5', ' L3', ' R2', ' R1', ' R1', ' L5', ' R5',\n",
       "       ' R2', ' L1', ' L3', ' L4', ' R3', ' L1', ' L1', ' R2', ' R3',\n",
       "       ' R3', ' R1', ' L3', ' L5', ' R3', ' R1', ' L1', ' R1', ' R2',\n",
       "       ' L1', ' L4', ' L5', ' R4', ' R2', ' L192', ' R5', ' L2', ' R53',\n",
       "       ' R1', ' L5', ' R73', ' R5', ' L5', ' R186', ' L3', ' L2', ' R1',\n",
       "       ' R3', ' L3', ' L3', ' R1', ' L4', ' L2', ' R3', ' L5', ' R4',\n",
       "       ' R3', ' R1', ' L1', ' R5', ' R2', ' R1', ' R1', ' R1', ' R3',\n",
       "       ' R2', ' L1', ' R5', ' R1', ' L5', ' R2', ' L2', ' L4', ' R3',\n",
       "       ' L1', ' R4', ' L5', ' R4', ' R3', ' L5', ' L3', ' R4', ' R2',\n",
       "       ' L5', ' L5', ' R2', ' R3', ' R5', ' R4', ' R2', ' R1', ' L1',\n",
       "       ' L5', ' L2', ' L3', ' L4', ' L5', ' L4', ' L5', ' L1', ' R3',\n",
       "       ' R4', ' R5', ' R3', ' L5', ' L4', ' L3', ' L1', ' L4', ' R2',\n",
       "       ' R5', ' R5', ' R4', ' L2', ' L4', ' R3', ' R1', ' L2', ' R5',\n",
       "       ' L5', ' R1', ' R1', ' L1', ' L5', ' L5', ' L2', ' L1', ' R5',\n",
       "       ' R2', ' L4', ' L1', ' R4', ' R3', ' L3', ' R1', ' R5', ' L1',\n",
       "       ' L4', ' R2', ' L3', ' R5', ' R3', ' R1', ' L3'], \n",
       "      dtype='|S5')"
      ]
     },
     "execution_count": 65,
     "metadata": {},
     "output_type": "execute_result"
    }
   ],
   "source": [
    "steps"
   ]
  },
  {
   "cell_type": "code",
   "execution_count": null,
   "metadata": {
    "collapsed": true
   },
   "outputs": [],
   "source": [
    ""
   ]
  }
 ],
 "metadata": {
  "kernelspec": {
   "display_name": "Python 2",
   "language": "python",
   "name": "python2"
  },
  "language_info": {
   "codemirror_mode": {
    "name": "ipython",
    "version": 2.0
   },
   "file_extension": ".py",
   "mimetype": "text/x-python",
   "name": "python",
   "nbconvert_exporter": "python",
   "pygments_lexer": "ipython2",
   "version": "2.7.13"
  }
 },
 "nbformat": 4,
 "nbformat_minor": 0
}